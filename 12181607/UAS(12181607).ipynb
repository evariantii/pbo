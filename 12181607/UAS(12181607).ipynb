{
 "cells": [
  {
   "cell_type": "code",
   "execution_count": 1,
   "metadata": {},
   "outputs": [
    {
     "data": {
      "application/vnd.jupyter.widget-view+json": {
       "model_id": "82a0406a-1b53-4898-8a39-27674fde88ea",
       "version_major": 2,
       "version_minor": 0
      },
      "method": "display_data"
     },
     "metadata": {},
     "output_type": "display_data"
    }
   ],
   "source": [
    "//Load Library\n",
    "%classpath add jar libs/*"
   ]
  },
  {
   "cell_type": "code",
   "execution_count": 4,
   "metadata": {
    "scrolled": true
   },
   "outputs": [
    {
     "name": "stdout",
     "output_type": "stream",
     "text": [
      "                                                               12181607.csv                                                                \n",
      " _id  |  idx  |   vervar    |                                 var                                 |     turvar      |  tahun  |   nilai   |\n",
      "-------------------------------------------------------------------------------------------------------------------------------------------\n",
      "   1  |    0  |  Pertanian  |  [Seri 2000] Produk Domestik regional Bruto Menurut Lapangan Usaha  |  Harga Berlaku  |   2001  |  1041039  |\n",
      "   2  |    1  |  Pertanian  |  [Seri 2000] Produk Domestik regional Bruto Menurut Lapangan Usaha  |  Harga Berlaku  |   2002  |  1123250  |\n",
      "   3  |    2  |  Pertanian  |  [Seri 2000] Produk Domestik regional Bruto Menurut Lapangan Usaha  |  Harga Berlaku  |   2003  |  1219804  |\n",
      "   4  |    3  |  Pertanian  |  [Seri 2000] Produk Domestik regional Bruto Menurut Lapangan Usaha  |  Harga Berlaku  |   2004  |  1372687  |\n",
      "   5  |    4  |  Pertanian  |  [Seri 2000] Produk Domestik regional Bruto Menurut Lapangan Usaha  |  Harga Berlaku  |   2005  |  1643245  |\n",
      "                                                                          12181607.xlsx                                                                          \n",
      " _id  |  idx  |               vervar               |                                 var                                 |     turvar      |  tahun  |  nilai   |\n",
      "-----------------------------------------------------------------------------------------------------------------------------------------------------------------\n",
      " 101  |  100  |  Perdagangan, Hotel, dan Restoran  |  [Seri 2000] Produk Domestik regional Bruto Menurut Lapangan Usaha  |  Harga Berlaku  |   2001  |  243220  |\n",
      " 102  |  101  |  Perdagangan, Hotel, dan Restoran  |  [Seri 2000] Produk Domestik regional Bruto Menurut Lapangan Usaha  |  Harga Berlaku  |   2002  |  278071  |\n",
      " 103  |  102  |  Perdagangan, Hotel, dan Restoran  |  [Seri 2000] Produk Domestik regional Bruto Menurut Lapangan Usaha  |  Harga Berlaku  |   2003  |  307200  |\n",
      " 104  |  103  |  Perdagangan, Hotel, dan Restoran  |  [Seri 2000] Produk Domestik regional Bruto Menurut Lapangan Usaha  |  Harga Berlaku  |   2004  |  348832  |\n",
      " 105  |  104  |  Perdagangan, Hotel, dan Restoran  |  [Seri 2000] Produk Domestik regional Bruto Menurut Lapangan Usaha  |  Harga Berlaku  |   2005  |  426895  |\n",
      "                                                               12181607.csv                                                                \n",
      " _id  |  idx  |   vervar    |                                 var                                 |     turvar      |  tahun  |   nilai   |\n",
      "-------------------------------------------------------------------------------------------------------------------------------------------\n",
      "   1  |    0  |  Pertanian  |  [Seri 2000] Produk Domestik regional Bruto Menurut Lapangan Usaha  |  Harga Berlaku  |   2001  |  1041039  |\n",
      "   2  |    1  |  Pertanian  |  [Seri 2000] Produk Domestik regional Bruto Menurut Lapangan Usaha  |  Harga Berlaku  |   2002  |  1123250  |\n",
      "   3  |    2  |  Pertanian  |  [Seri 2000] Produk Domestik regional Bruto Menurut Lapangan Usaha  |  Harga Berlaku  |   2003  |  1219804  |\n",
      "   4  |    3  |  Pertanian  |  [Seri 2000] Produk Domestik regional Bruto Menurut Lapangan Usaha  |  Harga Berlaku  |   2004  |  1372687  |\n",
      "   5  |    4  |  Pertanian  |  [Seri 2000] Produk Domestik regional Bruto Menurut Lapangan Usaha  |  Harga Berlaku  |   2005  |  1643245  |\n",
      "                        12181607.csv summary                         \n",
      "   Mean [nilai]     |  Max [nilai]  |  Min [nilai]  |  Sum [nilai]  |\n",
      "---------------------------------------------------------------------\n",
      " 773397.1500000004  |      6346245  |         9526  |    108275601  |"
     ]
    },
    {
     "data": {
      "text/plain": [
       "null"
      ]
     },
     "execution_count": 4,
     "metadata": {},
     "output_type": "execute_result"
    }
   ],
   "source": [
    "import tech.tablesaw.api.*;\n",
    "import static tech.tablesaw.aggregate.AggregateFunctions.*;\n",
    "import tech.tablesaw.io.xlsx.*;\n",
    "\n",
    "// display Tablesaw tables with BeakerX table display widget\n",
    "tech.tablesaw.beakerx.TablesawDisplayer.register();\n",
    "\n",
    "//init objek\n",
    "Table  dfSmallgrade= Table.read().csv(\"datasets/12181607/12181607.csv\");\n",
    "\n",
    "//Menampilkan  5 baris data yang pertama dari data frame Binatang \n",
    "System.out.println(dfSmallgrade.first(5));\n",
    "\n",
    "// display Tablesaw tables with BeakerX table display widget\n",
    "tech.tablesaw.beakerx.TablesawDisplayer.register();\n",
    "\n",
    "//init objek XlsReader\n",
    "XlsxReader reader = new XlsxReader();\n",
    "XlsxReadOptions options = XlsxReadOptions.builder(\"datasets/12181607/12181607.xlsx\").build();\n",
    "Table tab = reader.read(options);\n",
    "\n",
    "Table dfDataXLS = reader.read(options);\n",
    "\n",
    "//Menampilkan 5 baris data yang terakhir dari data frame dfDataXLS\n",
    "System.out.println(dfDataXLS.first(5));\n",
    "\n",
    "//menggabungkan data pada dataframedata1 dan dataframedata2 untuk disimpan di df datagabung\n",
    "Table datagabung = dfSmallgrade.append(dfDataXLS);\n",
    "\n",
    "//menampilkan gabungan data yang ada di dataframe datagabung\n",
    "System.out.println(datagabung.first(5)); \n",
    "\n",
    "//menampilkan summary data yang ada di dataframe datagabung kolom \"grade\"\n",
    "System.out.print(datagabung.summarize(\"nilai\", mean, max, min, sum).apply());\n",
    "\n"
   ]
  },
  {
   "cell_type": "code",
   "execution_count": 4,
   "metadata": {},
   "outputs": [
    {
     "data": {
      "text/html": [
       "<html></html>"
      ]
     },
     "execution_count": 4,
     "metadata": {},
     "output_type": "execute_result"
    }
   ],
   "source": [
    "//Render HTML\n",
    "%%html"
   ]
  },
  {
   "cell_type": "code",
   "execution_count": 3,
   "metadata": {},
   "outputs": [
    {
     "data": {
      "application/vnd.jupyter.widget-view+json": {
       "model_id": "",
       "version_major": 2,
       "version_minor": 0
      },
      "method": "display_data"
     },
     "metadata": {},
     "output_type": "display_data"
    },
    {
     "data": {
      "application/vnd.jupyter.widget-view+json": {
       "model_id": "cacee9fe-36f9-4237-a030-152dcf282b9c",
       "version_major": 2,
       "version_minor": 0
      },
      "method": "display_data"
     },
     "metadata": {},
     "output_type": "display_data"
    }
   ],
   "source": [
    "//Menginstal library dengan maven\n",
    "%%classpath add mvn\n",
    "tech.tablesaw tablesaw-beakerx 0.37.0\n",
    "tech.tablesaw tablesaw-jsplot 0.37.0\n",
    "tech.tablesaw tablesaw-plot 0.24.4  "
   ]
  },
  {
   "cell_type": "code",
   "execution_count": 5,
   "metadata": {},
   "outputs": [
    {
     "data": {
      "text/plain": [
       "null"
      ]
     },
     "execution_count": 5,
     "metadata": {},
     "output_type": "execute_result"
    }
   ],
   "source": [
    "import tech.tablesaw.api.Table;\n",
    "import tech.tablesaw.plotly.Plot;\n",
    "import tech.tablesaw.plotly.components.Figure;\n",
    "import tech.tablesaw.plotly.components.Layout;\n",
    "import tech.tablesaw.plotly.traces.HistogramTrace;\n",
    "\n",
    "\n",
    "    Table data_kepuasan = Table.read().csv(\"datasets/12181607/12181607.csv\");\n",
    "\n",
    "    Layout layout = Layout.builder().title(\"Produk Domestik regional Bruto Menurut Lapangan Usaha\").build();\n",
    "\n",
    "    HistogramTrace trace = HistogramTrace.builder(data_kepuasan.nCol(\"nilai\")).build();\n",
    "\n",
    "    Plot.show(new Figure(layout, trace));"
   ]
  },
  {
   "cell_type": "code",
   "execution_count": 12,
   "metadata": {},
   "outputs": [
    {
     "name": "stdout",
     "output_type": "stream",
     "text": [
      "     12181607.csv summary     \n",
      "   vervar    |  Sum [nilai]  |\n",
      "------------------------------\n",
      "  Pertanian  |     31955778  |\n",
      " Penggalian  |       832437  |\n",
      "         12181607.csv summary         \n",
      "       turvar        |  Sum [tahun]  |\n",
      "--------------------------------------\n",
      "      Harga Berlaku  |        40110  |\n",
      " Harga Konstan 2000  |        40110  |\n"
     ]
    },
    {
     "data": {
      "text/plain": [
       "null"
      ]
     },
     "execution_count": 12,
     "metadata": {},
     "output_type": "execute_result"
    }
   ],
   "source": [
    "import static tech.tablesaw.aggregate.AggregateFunctions.*;\n",
    "\n",
    "import tech.tablesaw.api.*;\n",
    "import tech.tablesaw.io.csv.*;\n",
    "\n",
    "import tech.tablesaw.plotly.Plot;\n",
    "import tech.tablesaw.plotly.api.HorizontalBarPlot;\n",
    "import tech.tablesaw.plotly.api.VerticalBarPlot;\n",
    "import tech.tablesaw.plotly.components.Figure;\n",
    "import tech.tablesaw.plotly.components.Layout;\n",
    "import tech.tablesaw.plotly.components.Marker;\n",
    "import tech.tablesaw.plotly.traces.BarTrace;\n",
    "import tech.tablesaw.plotly.traces.Trace;\n",
    "\n",
    "// display Tablesaw tables with BeakerX table display widget\n",
    "tech.tablesaw.beakerx.TablesawDisplayer.register();\n",
    "\n",
    "//init objek\n",
    "Table  dfData = Table.read().csv(\"datasets/12181607/12181607.csv\");\n",
    "\n",
    "Table summaryNilai =  dfData.summarize(\"nilai\", sum).by(\"vervar\");;\n",
    "\n",
    "Table sumTahun =  dfData.summarize(\"Tahun\", sum).by(\"turvar\");\n",
    "\n",
    "System.out.println(summaryNilai.print());\n",
    "\n",
    "System.out.println(sumTahun.print());\n",
    "\n",
    "//Ploting grafik secara vertical \n",
    "Plot.show(\n",
    "        VerticalBarPlot.create(\n",
    "            \"nilai\",\n",
    "            summaryNilai,\n",
    "            \"vervar\",\n",
    "            Layout.BarMode.GROUP,\n",
    "            \"Sum [nilai]\"));\n",
    "\n",
    "//Ploting grafik secara horisontal \n",
    "  Plot.show(\n",
    "        HorizontalBarPlot.create(\n",
    "            \"turvar\",\n",
    "            sumTahun,\n",
    "            \"turvar\",\n",
    "            Layout.BarMode.STACK,\n",
    "            \"Sum [Tahun]\"));"
   ]
  },
  {
   "cell_type": "code",
   "execution_count": null,
   "metadata": {},
   "outputs": [],
   "source": []
  }
 ],
 "metadata": {
  "kernelspec": {
   "display_name": "Java",
   "language": "java",
   "name": "java"
  },
  "language_info": {
   "codemirror_mode": "text/x-java",
   "file_extension": ".java",
   "mimetype": "",
   "name": "Java",
   "nbconverter_exporter": "",
   "version": "1.8.0_121"
  },
  "toc": {
   "base_numbering": 1,
   "nav_menu": {},
   "number_sections": false,
   "sideBar": false,
   "skip_h1_title": false,
   "title_cell": "Table of Contents",
   "title_sidebar": "Contents",
   "toc_cell": false,
   "toc_position": {},
   "toc_section_display": false,
   "toc_window_display": false
  }
 },
 "nbformat": 4,
 "nbformat_minor": 2
}
